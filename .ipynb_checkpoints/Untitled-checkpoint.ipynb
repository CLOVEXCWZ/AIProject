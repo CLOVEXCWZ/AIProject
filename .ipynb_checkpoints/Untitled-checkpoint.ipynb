{
 "cells": [
  {
   "cell_type": "code",
   "execution_count": 27,
   "id": "e96a7c11",
   "metadata": {},
   "outputs": [],
   "source": [
    "from dataprocess import dataprocess_dialogue"
   ]
  },
  {
   "cell_type": "code",
   "execution_count": 28,
   "id": "96692dc2",
   "metadata": {},
   "outputs": [],
   "source": [
    "from transformers import BertTokenizerFast\n",
    "\n",
    "tokenizer = BertTokenizerFast(vocab_file=\"data/vocab.txt\", \n",
    "                              sep_token=\"[SEP]\", \n",
    "                              pad_token=\"[PAD]\", \n",
    "                              cls_token=\"[CLS]\")"
   ]
  },
  {
   "cell_type": "code",
   "execution_count": 29,
   "id": "72932c8e",
   "metadata": {},
   "outputs": [
    {
     "name": "stderr",
     "output_type": "stream",
     "text": [
      "100%|██████████████████████████████████████████████████████████████████████████████████████████████████████████████████████████| 51/51 [00:00<00:00, 2140.59it/s]\n"
     ]
    }
   ],
   "source": [
    "read_path = 'data/train.txt'\n",
    "save_path = 'data/train.pkl'\n",
    "\n",
    "proess = dataprocess_dialogue.ChitDialogueDataProcess(read_path,\n",
    "                                                      tokenizer,\n",
    "                                                      save_path)\n",
    "proess.fit()"
   ]
  },
  {
   "cell_type": "code",
   "execution_count": 30,
   "id": "e66db7c3",
   "metadata": {},
   "outputs": [],
   "source": [
    "trian, val = proess.load_dataloader()"
   ]
  },
  {
   "cell_type": "code",
   "execution_count": 31,
   "id": "d64e71c0",
   "metadata": {},
   "outputs": [],
   "source": [
    "for i in trian:\n",
    "    break"
   ]
  },
  {
   "cell_type": "code",
   "execution_count": 32,
   "id": "e8f53717",
   "metadata": {},
   "outputs": [
    {
     "data": {
      "text/plain": [
       "tensor([[    0, 13086,   548,  ...,     1,     1,     1],\n",
       "        [    0, 13086,  1369,  ...,     1,     1,     1],\n",
       "        [    0, 13086,  1577,  ...,     1,     1,     1],\n",
       "        ...,\n",
       "        [    0, 13086,    10,  ...,     1,     1,     1],\n",
       "        [    0, 13086,   266,  ...,     1,     1,     1],\n",
       "        [    0, 13086,  2445,  ...,     1,     1,     1]])"
      ]
     },
     "execution_count": 32,
     "metadata": {},
     "output_type": "execute_result"
    }
   ],
   "source": [
    "i[0]"
   ]
  },
  {
   "cell_type": "code",
   "execution_count": null,
   "id": "1b6563f4",
   "metadata": {},
   "outputs": [],
   "source": []
  },
  {
   "cell_type": "code",
   "execution_count": null,
   "id": "2e6a4a98",
   "metadata": {},
   "outputs": [],
   "source": []
  },
  {
   "cell_type": "code",
   "execution_count": 18,
   "id": "9260871a",
   "metadata": {},
   "outputs": [],
   "source": [
    "from dataprocess import dataprocess_lccc_dialogue\n",
    "\n",
    "from transformers import BertTokenizerFast\n",
    "\n",
    "tokenizer = BertTokenizerFast(vocab_file=\"data/vocab.txt\", \n",
    "                              sep_token=\"[SEP]\", \n",
    "                              pad_token=\"[PAD]\", \n",
    "                              cls_token=\"[CLS]\")\n",
    "\n",
    "read_path = 'data/toy_data.json'\n",
    "save_path = 'data/toy_data.pkl'\n",
    "\n",
    "proess = dataprocess_dialogue.LCCCDialogueDataProcess(read_path,\n",
    "                                                           tokenizer, \n",
    "                                                           save_path)\n",
    "proess.fit()"
   ]
  },
  {
   "cell_type": "code",
   "execution_count": 19,
   "id": "c7dbb763",
   "metadata": {},
   "outputs": [],
   "source": [
    "train, val = proess.load_dataloader()"
   ]
  },
  {
   "cell_type": "code",
   "execution_count": 20,
   "id": "0c84290b",
   "metadata": {},
   "outputs": [],
   "source": [
    "for i in train:\n",
    "    break"
   ]
  },
  {
   "cell_type": "code",
   "execution_count": 37,
   "id": "e06ed1c4",
   "metadata": {},
   "outputs": [
    {
     "data": {
      "text/plain": [
       "100"
      ]
     },
     "execution_count": 37,
     "metadata": {},
     "output_type": "execute_result"
    }
   ],
   "source": [
    "tokenizer.convert_tokens_to_ids(\"堵死多说几句\")"
   ]
  },
  {
   "cell_type": "code",
   "execution_count": 22,
   "id": "fce7f412",
   "metadata": {},
   "outputs": [
    {
     "data": {
      "text/plain": [
       "tensor([[ 101,  100,  679,  ...,    0,    0,    0],\n",
       "        [ 101,  100, 2456,  ...,  102,    0,    0],\n",
       "        [ 101,  100, 2401,  ...,    0,    0,    0],\n",
       "        ...,\n",
       "        [ 101,  100, 6821,  ...,    0,    0,    0],\n",
       "        [ 101,  100,  872,  ...,    0,    0,    0],\n",
       "        [ 101,  100, 4696,  ...,    0,    0,    0]])"
      ]
     },
     "execution_count": 22,
     "metadata": {},
     "output_type": "execute_result"
    }
   ],
   "source": [
    "i[0]"
   ]
  },
  {
   "cell_type": "code",
   "execution_count": 23,
   "id": "bcaf075b",
   "metadata": {},
   "outputs": [
    {
     "data": {
      "text/plain": [
       "'[UNK]'"
      ]
     },
     "execution_count": 23,
     "metadata": {},
     "output_type": "execute_result"
    }
   ],
   "source": [
    "tokenizer.decode([100])"
   ]
  },
  {
   "cell_type": "code",
   "execution_count": 26,
   "id": "6cee8fca",
   "metadata": {},
   "outputs": [
    {
     "data": {
      "text/plain": [
       "'[CLS] [UNK] 不 客 观 ， 以 女 朋 友 的 实 力 ， 完 全 可 以 给 你 搞 出 四 个 购 物 车 出 来 [UNK] 我 看 到 你 给 女 朋 友 买 的 圣 罗 兰 了 [UNK] 昂 ？ 你 搁 哪 看 见 的 ？ ！ [SEP] [PAD] [PAD] [PAD] [PAD] [PAD] [PAD] [PAD] [PAD] [PAD] [PAD] [PAD] [PAD] [PAD] [PAD] [PAD] [PAD] [PAD] [PAD] [PAD] [PAD] [PAD] [PAD] [PAD] [PAD] [PAD] [PAD] [PAD] [PAD] [PAD] [PAD] [PAD] [PAD] [PAD] [PAD] [PAD] [PAD] [PAD] [PAD] [PAD] [PAD] [PAD] [PAD] [PAD] [PAD] [PAD] [PAD] [PAD] [PAD] [PAD]'"
      ]
     },
     "execution_count": 26,
     "metadata": {},
     "output_type": "execute_result"
    }
   ],
   "source": [
    "tokenizer.decode(i[0][0])"
   ]
  },
  {
   "cell_type": "code",
   "execution_count": null,
   "id": "19e84fc1",
   "metadata": {},
   "outputs": [],
   "source": []
  }
 ],
 "metadata": {
  "kernelspec": {
   "display_name": "Python 3 (ipykernel)",
   "language": "python",
   "name": "python3"
  },
  "language_info": {
   "codemirror_mode": {
    "name": "ipython",
    "version": 3
   },
   "file_extension": ".py",
   "mimetype": "text/x-python",
   "name": "python",
   "nbconvert_exporter": "python",
   "pygments_lexer": "ipython3",
   "version": "3.8.13"
  }
 },
 "nbformat": 4,
 "nbformat_minor": 5
}
